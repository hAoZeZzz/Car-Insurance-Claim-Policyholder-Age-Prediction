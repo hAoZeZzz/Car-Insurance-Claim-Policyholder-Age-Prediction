{
 "cells": [
  {
   "cell_type": "markdown",
   "metadata": {},
   "source": [
    "# import libraries"
   ]
  },
  {
   "cell_type": "code",
   "execution_count": 528,
   "metadata": {},
   "outputs": [],
   "source": [
    "import numpy as np\n",
    "import pandas as pd\n",
    "import re\n",
    "from collections import Counter\n",
    "from xgboost import XGBClassifier, XGBRegressor, plot_importance\n",
    "from sklearn.metrics import mean_squared_error, f1_score\n",
    "from sklearn.model_selection import train_test_split, GridSearchCV\n",
    "from sklearn.feature_selection import SelectFromModel\n",
    "from sklearn.decomposition import PCA\n",
    "from sklearn import linear_model\n",
    "from numpy import sort"
   ]
  },
  {
   "cell_type": "code",
   "execution_count": 529,
   "metadata": {},
   "outputs": [],
   "source": [
    "train_df = pd.read_csv('train.csv')\n",
    "test_df = pd.read_csv('test.csv')"
   ]
  },
  {
   "cell_type": "code",
   "execution_count": 530,
   "metadata": {},
   "outputs": [],
   "source": [
    "def to_total_months(s):\n",
    "    result = re.match(r'(\\d+) years and (\\d+) months?', s)\n",
    "    if result:\n",
    "        years = int(result.group(1))\n",
    "        months = int(result.group(2))\n",
    "        total_months = years * 12 + months\n",
    "        return total_months\n",
    "    else:\n",
    "        return int(s.split()[0])"
   ]
  },
  {
   "cell_type": "code",
   "execution_count": 531,
   "metadata": {},
   "outputs": [],
   "source": [
    "def preprocess_data(df):\n",
    "    policy_ids = df['policy_id']\n",
    "    df = df.drop('policy_id', axis=1)\n",
    "    df = df.drop(df.columns[:1], axis = 1)\n",
    "\n",
    "    df['age_of_car'] = df['age_of_car'].apply(to_total_months)\n",
    "\n",
    "    df = pd.get_dummies(df, columns=['area_cluster', 'make', 'segment', 'model', 'fuel_type', \\\n",
    "                                        'engine_type', 'rear_brakes_type', 'transmission_type',\\\n",
    "                                        'steering_type'])\n",
    "    df = df.replace({True: 1, False: 0})\n",
    "\n",
    "    df[['torque_Nm', 'torque_rpm']] = df['max_torque'].str.split('Nm@', expand=True)\n",
    "    df[['power_Nm', 'power_rpm']] = df['max_power'].str.split('bhp@', expand=True)\n",
    "\n",
    "    df['torque_rpm'] = df['torque_rpm'].str.rstrip('rpm')\n",
    "    df['power_rpm'] = df['power_rpm'].str.rstrip('rpm')   \n",
    "\n",
    "    df['torque_Nm'] = pd.to_numeric(df['torque_Nm'])\n",
    "    df['torque_rpm'] = pd.to_numeric(df['torque_rpm'])\n",
    "    df['power_Nm'] = pd.to_numeric(df['power_Nm'])\n",
    "    df['power_rpm'] = pd.to_numeric(df['power_rpm'])\n",
    "\n",
    "    for col in df.columns:\n",
    "        if re.search(r'is_', col):\n",
    "            df[col] = df[col].replace({'Yes': 1, 'No': 0})\n",
    "        else:\n",
    "            continue\n",
    "\n",
    "    df['volume'] = df.apply(lambda row:np.cbrt(row['length'] * row['width'] * row['height']), axis=1)\n",
    "    \n",
    "    df = df.drop(columns=['max_torque', 'max_power', 'length', 'width', 'height'], axis=1)\n",
    "    return policy_ids, df "
   ]
  },
  {
   "cell_type": "code",
   "execution_count": 532,
   "metadata": {},
   "outputs": [
    {
     "name": "stderr",
     "output_type": "stream",
     "text": [
      "/var/folders/tn/m3w4cr2j7csb0n3r_j673p3w0000gn/T/ipykernel_88158/3736461425.py:11: FutureWarning: Downcasting behavior in `replace` is deprecated and will be removed in a future version. To retain the old behavior, explicitly call `result.infer_objects(copy=False)`. To opt-in to the future behavior, set `pd.set_option('future.no_silent_downcasting', True)`\n",
      "  df = df.replace({True: 1, False: 0})\n",
      "/var/folders/tn/m3w4cr2j7csb0n3r_j673p3w0000gn/T/ipykernel_88158/3736461425.py:26: FutureWarning: Downcasting behavior in `replace` is deprecated and will be removed in a future version. To retain the old behavior, explicitly call `result.infer_objects(copy=False)`. To opt-in to the future behavior, set `pd.set_option('future.no_silent_downcasting', True)`\n",
      "  df[col] = df[col].replace({'Yes': 1, 'No': 0})\n",
      "/var/folders/tn/m3w4cr2j7csb0n3r_j673p3w0000gn/T/ipykernel_88158/3736461425.py:11: FutureWarning: Downcasting behavior in `replace` is deprecated and will be removed in a future version. To retain the old behavior, explicitly call `result.infer_objects(copy=False)`. To opt-in to the future behavior, set `pd.set_option('future.no_silent_downcasting', True)`\n",
      "  df = df.replace({True: 1, False: 0})\n",
      "/var/folders/tn/m3w4cr2j7csb0n3r_j673p3w0000gn/T/ipykernel_88158/3736461425.py:26: FutureWarning: Downcasting behavior in `replace` is deprecated and will be removed in a future version. To retain the old behavior, explicitly call `result.infer_objects(copy=False)`. To opt-in to the future behavior, set `pd.set_option('future.no_silent_downcasting', True)`\n",
      "  df[col] = df[col].replace({'Yes': 1, 'No': 0})\n"
     ]
    }
   ],
   "source": [
    "policy_ids_train, df_train = preprocess_data(train_df)\n",
    "policy_ids_test, df_test = preprocess_data(test_df)"
   ]
  },
  {
   "cell_type": "code",
   "execution_count": 547,
   "metadata": {},
   "outputs": [
    {
     "name": "stdout",
     "output_type": "stream",
     "text": [
      "Mean Squared Error: 93.36543270424967\n"
     ]
    }
   ],
   "source": [
    "# xgboost\n",
    "X_train = df_train.drop('age_of_policyholder', axis=1).values\n",
    "X_test = df_test.drop('age_of_policyholder', axis=1).values\n",
    "y_train = df_train['age_of_policyholder'].values\n",
    "y_test = df_test['age_of_policyholder'].values\n",
    "\n",
    "\n",
    "# fit model\n",
    "# 开始训练\n",
    "model_regression = XGBRegressor()\n",
    "model_regression.fit(X_train, y_train)\n",
    "\n",
    "\n",
    "# make predictions\n",
    "y_pred = model_regression.predict(X_test)\n",
    "mse = mean_squared_error(y_test, y_pred)\n",
    "print(\"Mean Squared Error:\", mse)"
   ]
  },
  {
   "cell_type": "code",
   "execution_count": 548,
   "metadata": {},
   "outputs": [
    {
     "name": "stdout",
     "output_type": "stream",
     "text": [
      "Fitting 5 folds for each of 6 candidates, totalling 30 fits\n",
      "[CV 1/5] END ...reg_alpha=0.1, reg_lambda=0.5;, score=-91.180 total time=   0.9s\n",
      "[CV 2/5] END ...reg_alpha=0.1, reg_lambda=0.5;, score=-93.086 total time=   0.9s\n",
      "[CV 3/5] END ...reg_alpha=0.1, reg_lambda=0.5;, score=-90.051 total time=   0.9s\n",
      "[CV 4/5] END ...reg_alpha=0.1, reg_lambda=0.5;, score=-91.057 total time=   0.9s\n",
      "[CV 5/5] END ...reg_alpha=0.1, reg_lambda=0.5;, score=-90.903 total time=   0.9s\n",
      "[CV 1/5] END ...reg_alpha=0.1, reg_lambda=0.7;, score=-91.204 total time=   0.9s\n",
      "[CV 2/5] END ...reg_alpha=0.1, reg_lambda=0.7;, score=-93.048 total time=   0.9s\n",
      "[CV 3/5] END ...reg_alpha=0.1, reg_lambda=0.7;, score=-90.076 total time=   0.9s\n",
      "[CV 5/5] END ...reg_alpha=0.1, reg_lambda=0.7;, score=-90.895 total time=   0.8s\n",
      "[CV 4/5] END ...reg_alpha=0.1, reg_lambda=0.7;, score=-91.049 total time=   0.9s\n",
      "[CV 2/5] END .....reg_alpha=0.1, reg_lambda=1;, score=-93.070 total time=   0.8s\n",
      "[CV 3/5] END .....reg_alpha=0.1, reg_lambda=1;, score=-90.036 total time=   0.8s\n",
      "[CV 1/5] END ...reg_alpha=0.2, reg_lambda=0.5;, score=-91.156 total time=   0.8s\n",
      "[CV 1/5] END .....reg_alpha=0.1, reg_lambda=1;, score=-91.203 total time=   1.0s\n",
      "[CV 5/5] END .....reg_alpha=0.1, reg_lambda=1;, score=-90.874 total time=   0.9s\n",
      "[CV 4/5] END .....reg_alpha=0.1, reg_lambda=1;, score=-91.059 total time=   0.9s\n",
      "[CV 2/5] END ...reg_alpha=0.2, reg_lambda=0.5;, score=-93.084 total time=   0.8s\n",
      "[CV 4/5] END ...reg_alpha=0.2, reg_lambda=0.5;, score=-91.054 total time=   0.8s\n",
      "[CV 3/5] END ...reg_alpha=0.2, reg_lambda=0.5;, score=-90.058 total time=   0.9s\n",
      "[CV 1/5] END ...reg_alpha=0.2, reg_lambda=0.7;, score=-91.189 total time=   0.8s\n",
      "[CV 5/5] END ...reg_alpha=0.2, reg_lambda=0.5;, score=-90.898 total time=   0.8s\n",
      "[CV 2/5] END ...reg_alpha=0.2, reg_lambda=0.7;, score=-93.071 total time=   0.8s\n",
      "[CV 3/5] END ...reg_alpha=0.2, reg_lambda=0.7;, score=-90.061 total time=   0.8s\n",
      "[CV 4/5] END ...reg_alpha=0.2, reg_lambda=0.7;, score=-91.059 total time=   0.8s\n",
      "[CV 5/5] END ...reg_alpha=0.2, reg_lambda=0.7;, score=-90.913 total time=   0.7s\n",
      "[CV 1/5] END .....reg_alpha=0.2, reg_lambda=1;, score=-91.202 total time=   0.8s\n",
      "[CV 2/5] END .....reg_alpha=0.2, reg_lambda=1;, score=-93.070 total time=   0.7s\n",
      "[CV 4/5] END .....reg_alpha=0.2, reg_lambda=1;, score=-91.058 total time=   0.7s\n",
      "[CV 3/5] END .....reg_alpha=0.2, reg_lambda=1;, score=-90.072 total time=   0.8s\n",
      "[CV 5/5] END .....reg_alpha=0.2, reg_lambda=1;, score=-90.870 total time=   0.7s\n",
      "每轮最佳得分:{'mean_fit_time': array([0.88013253, 0.85716867, 0.86220789, 0.79554596, 0.7618896 ,\n",
      "       0.71588717]), 'std_fit_time': array([0.01070045, 0.034252  , 0.05438977, 0.03726082, 0.04407075,\n",
      "       0.02601827]), 'mean_score_time': array([0.02235513, 0.03057179, 0.01645832, 0.01497951, 0.01695576,\n",
      "       0.01075945]), 'std_score_time': array([0.00892334, 0.01157214, 0.00197946, 0.00351872, 0.00551667,\n",
      "       0.00039381]), 'param_reg_alpha': masked_array(data=[0.1, 0.1, 0.1, 0.2, 0.2, 0.2],\n",
      "             mask=[False, False, False, False, False, False],\n",
      "       fill_value='?',\n",
      "            dtype=object), 'param_reg_lambda': masked_array(data=[0.5, 0.7, 1, 0.5, 0.7, 1],\n",
      "             mask=[False, False, False, False, False, False],\n",
      "       fill_value='?',\n",
      "            dtype=object), 'params': [{'reg_alpha': 0.1, 'reg_lambda': 0.5}, {'reg_alpha': 0.1, 'reg_lambda': 0.7}, {'reg_alpha': 0.1, 'reg_lambda': 1}, {'reg_alpha': 0.2, 'reg_lambda': 0.5}, {'reg_alpha': 0.2, 'reg_lambda': 0.7}, {'reg_alpha': 0.2, 'reg_lambda': 1}], 'split0_test_score': array([-91.17993461, -91.20439372, -91.20303501, -91.15556292,\n",
      "       -91.18937317, -91.20208968]), 'split1_test_score': array([-93.08615214, -93.04846561, -93.07032189, -93.08436055,\n",
      "       -93.07111202, -93.07021375]), 'split2_test_score': array([-90.05080601, -90.07625522, -90.03586122, -90.05826916,\n",
      "       -90.06111169, -90.07159635]), 'split3_test_score': array([-91.05727747, -91.04858409, -91.05910609, -91.05374749,\n",
      "       -91.05852767, -91.05812565]), 'split4_test_score': array([-90.90259482, -90.89493439, -90.87408634, -90.89808794,\n",
      "       -90.91305201, -90.87008   ]), 'mean_test_score': array([-91.25535301, -91.25452661, -91.24848211, -91.25000561,\n",
      "       -91.25863531, -91.25442109]), 'std_test_score': array([0.99720801, 0.97783156, 0.9967598 , 0.99562809, 0.9882715 ,\n",
      "       0.98844989]), 'rank_test_score': array([5, 4, 1, 2, 6, 3], dtype=int32)}\n",
      "参数的最佳取值：{'reg_alpha': 0.1, 'reg_lambda': 1}\n",
      "最佳模型得分:-91.24848211157567\n",
      "90.80894402861882\n"
     ]
    }
   ],
   "source": [
    "cv_params = {'reg_alpha':[0.1, 0.2],\n",
    "             'reg_lambda': [0.5, 0.7, 1]}\n",
    "\n",
    "other_params = {'subsample':0.8,\n",
    "                'colsample_bytree':0.8,\n",
    "                'min_child_weight':3,\n",
    "                'seed':0,\n",
    "                'n_estimators':150,\n",
    "                'gamma':0.125,\n",
    "                'learning_rate':0.05, \n",
    "                'max_depth': 4}\n",
    "\n",
    "model_regression = XGBRegressor(**other_params)\n",
    "opti = GridSearchCV(estimator=model_regression, param_grid=cv_params, scoring='neg_mean_squared_error', n_jobs=-1, verbose=3)\n",
    "opti.fit(X_train, y_train)\n",
    "res = opti.cv_results_\n",
    "print(f'每轮最佳得分:{res}')\n",
    "print(f'参数的最佳取值：{opti.best_params_}')\n",
    "print(f'最佳模型得分:{opti.best_score_}')\n",
    "other_params.update(opti.best_params_)\n",
    "model_regression = XGBRegressor(**other_params)\n",
    "model_regression.fit(X_train,y_train)\n",
    "y_pred = model_regression.predict(X_test)\n",
    "mse = mean_squared_error(y_test, y_pred)\n",
    "print(mse)\n"
   ]
  },
  {
   "cell_type": "code",
   "execution_count": 549,
   "metadata": {},
   "outputs": [
    {
     "name": "stdout",
     "output_type": "stream",
     "text": [
      "final minimum mse: 90.80894402861882\n"
     ]
    }
   ],
   "source": [
    "thresholds = sort(model_regression.feature_importances_)\n",
    "thresholds = thresholds[ thresholds != 0]\n",
    "min_mse = mse\n",
    "output_pred = y_pred\n",
    "tmp_x_train = X_train\n",
    "tmp_x_test = X_test\n",
    "for thresh in thresholds:\n",
    "\t# select features using threshold\n",
    "\tselection = SelectFromModel(model_regression, threshold=thresh, prefit=True)\n",
    "\tselect_X_train = selection.transform(X_train)\n",
    "\t# train model\n",
    "\tselection_model = XGBRegressor(**other_params)\n",
    "\tselection_model.fit(select_X_train, y_train)\n",
    "\t# eval model\n",
    "\tselect_X_test = selection.transform(X_test)\n",
    "\tpredictions = selection_model.predict(select_X_test)\n",
    "\tmse = mean_squared_error(y_test, predictions)\n",
    "\tif mse < min_mse:\n",
    "\t\tprint(\"Mean Squared Error:\", mse, f'n={select_X_train.shape[1]}', f'thresh={thresh}')\n",
    "\t\tmin_mse = mse\n",
    "\t\toutput_pred = predictions\n",
    "\t\ttmp_x_train = select_X_train\n",
    "\t\ttmp_x_test = select_X_test\n",
    "print(f'final minimum mse: {min_mse}')"
   ]
  },
  {
   "cell_type": "code",
   "execution_count": 550,
   "metadata": {},
   "outputs": [
    {
     "data": {
      "text/plain": [
       "array([38.647633, 38.66945 , 36.771816, ..., 35.211792, 34.752808,\n",
       "       36.97485 ], dtype=float32)"
      ]
     },
     "execution_count": 550,
     "metadata": {},
     "output_type": "execute_result"
    }
   ],
   "source": [
    "output_pred"
   ]
  },
  {
   "cell_type": "code",
   "execution_count": 551,
   "metadata": {},
   "outputs": [],
   "source": [
    "output_part1 = pd.DataFrame({'policy_id': policy_ids_test, 'age_of_policyholder': output_pred})\n",
    "output_part1.to_csv('z5364634.PART1.output.csv', index=False)"
   ]
  },
  {
   "cell_type": "markdown",
   "metadata": {},
   "source": [
    "# classifier"
   ]
  },
  {
   "cell_type": "code",
   "execution_count": 553,
   "metadata": {},
   "outputs": [],
   "source": [
    "X_train = df_train.drop('is_claim', axis=1).values\n",
    "X_test = df_test.drop('is_claim', axis=1).values\n",
    "y_train = df_train['is_claim'].values\n",
    "y_test = df_test['is_claim'].values"
   ]
  },
  {
   "cell_type": "code",
   "execution_count": 649,
   "metadata": {},
   "outputs": [
    {
     "name": "stdout",
     "output_type": "stream",
     "text": [
      "Macro F1 Score : 0.5439759219286778\n"
     ]
    }
   ],
   "source": [
    "model_classification = XGBClassifier(scale_pos_weight=6)\n",
    "model_classification.fit(X_train, y_train)\n",
    "\n",
    "# make predictions\n",
    "y_pred = model_classification.predict(X_test)\n",
    "macro_f1 = f1_score(y_test, y_pred, average='macro')\n",
    "print(\"Macro F1 Score :\", macro_f1)"
   ]
  },
  {
   "cell_type": "code",
   "execution_count": 749,
   "metadata": {},
   "outputs": [
    {
     "name": "stdout",
     "output_type": "stream",
     "text": [
      "Macro F1 Score : 0.5432493243068808\n"
     ]
    }
   ],
   "source": [
    "other_params = {\n",
    "                'colsample_bytree':0.7,\n",
    "                'max_depth':6,\n",
    "                'min_child_weight':4,\n",
    "                'reg_alpha':0.4,\n",
    "                'n_estimators':200,\n",
    "                'scale_pos_weight':6,\n",
    "                }\n",
    "model_classification = XGBClassifier(**other_params)\n",
    "model_classification.fit(X_train,y_train)\n",
    "y_pred = model_classification.predict(X_test)\n",
    "macro_f1 = f1_score(y_test, y_pred, average='macro')\n",
    "print(\"Macro F1 Score :\", macro_f1)"
   ]
  },
  {
   "cell_type": "code",
   "execution_count": 658,
   "metadata": {},
   "outputs": [
    {
     "name": "stdout",
     "output_type": "stream",
     "text": [
      "Fitting 5 folds for each of 4 candidates, totalling 20 fits\n",
      "[CV 1/5] END ....................reg_lambda=0.1;, score=0.529 total time=   1.1s\n",
      "[CV 3/5] END ....................reg_lambda=0.1;, score=0.522 total time=   1.0s\n",
      "[CV 2/5] END ......................reg_lambda=0;, score=0.511 total time=   1.2s\n",
      "[CV 3/5] END ......................reg_lambda=0;, score=0.518 total time=   1.2s\n",
      "[CV 1/5] END ......................reg_lambda=0;, score=0.529 total time=   1.3s\n",
      "[CV 5/5] END ......................reg_lambda=0;, score=0.523 total time=   1.2s\n",
      "[CV 2/5] END ....................reg_lambda=0.1;, score=0.515 total time=   1.1s\n",
      "[CV 4/5] END ......................reg_lambda=0;, score=0.519 total time=   1.3s\n",
      "[CV 4/5] END ....................reg_lambda=0.1;, score=0.523 total time=   0.8s\n",
      "[CV 2/5] END ....................reg_lambda=0.5;, score=0.519 total time=   0.9s\n",
      "[CV 5/5] END ....................reg_lambda=0.1;, score=0.527 total time=   0.9s\n",
      "[CV 5/5] END ....................reg_lambda=0.5;, score=0.535 total time=   0.9s\n",
      "[CV 3/5] END ....................reg_lambda=0.5;, score=0.524 total time=   1.0s\n",
      "[CV 1/5] END ......................reg_lambda=1;, score=0.528 total time=   0.9s\n",
      "[CV 4/5] END ....................reg_lambda=0.5;, score=0.519 total time=   0.9s\n",
      "[CV 1/5] END ....................reg_lambda=0.5;, score=0.516 total time=   1.0s\n",
      "[CV 2/5] END ......................reg_lambda=1;, score=0.518 total time=   0.7s\n",
      "[CV 3/5] END ......................reg_lambda=1;, score=0.528 total time=   0.6s\n",
      "[CV 4/5] END ......................reg_lambda=1;, score=0.515 total time=   0.6s\n",
      "[CV 5/5] END ......................reg_lambda=1;, score=0.517 total time=   0.6s\n",
      "每轮最佳得分:{'mean_fit_time': array([1.19924078, 0.96656609, 0.92052975, 0.64389219]), 'std_fit_time': array([0.03774636, 0.10378279, 0.04194401, 0.10734065]), 'mean_score_time': array([0.04445724, 0.03284235, 0.03641462, 0.01951261]), 'std_score_time': array([0.01222919, 0.01557619, 0.00264809, 0.00683931]), 'param_reg_lambda': masked_array(data=[0, 0.1, 0.5, 1],\n",
      "             mask=[False, False, False, False],\n",
      "       fill_value='?',\n",
      "            dtype=object), 'params': [{'reg_lambda': 0}, {'reg_lambda': 0.1}, {'reg_lambda': 0.5}, {'reg_lambda': 1}], 'split0_test_score': array([0.52898896, 0.52928331, 0.51604526, 0.52753191]), 'split1_test_score': array([0.51147433, 0.51467967, 0.51878902, 0.51754477]), 'split2_test_score': array([0.51776184, 0.52207615, 0.5239704 , 0.52778186]), 'split3_test_score': array([0.51878473, 0.52280041, 0.51895628, 0.51537587]), 'split4_test_score': array([0.523069  , 0.52718889, 0.53507729, 0.51730773]), 'mean_test_score': array([0.52001577, 0.52320569, 0.52256765, 0.52110843]), 'std_test_score': array([0.00582052, 0.00503858, 0.00675752, 0.00540006]), 'rank_test_score': array([4, 1, 2, 3], dtype=int32)}\n",
      "参数的最佳取值：{'reg_lambda': 0.1}\n",
      "最佳模型得分:0.5232056867034369\n",
      "Macro F1 Score : 0.5341699675158895\n"
     ]
    }
   ],
   "source": [
    "cv_params = {\n",
    "            'reg_lambda' :[0, 0.1, 0.5, 1]\n",
    "            }\n",
    "\n",
    "other_params = {\n",
    "                # 'colsample_bytree':0.8,\n",
    "                # 'max_depth':6,\n",
    "                # 'min_child_weight':4,\n",
    "                # 'reg_alpha':0.4,\n",
    "                'n_estimators':125,\n",
    "                # 'learning_rate':0.01,\n",
    "                'scale_pos_weight':6\n",
    "                }\n",
    "\n",
    "model_classification = XGBClassifier(**other_params)\n",
    "opti = GridSearchCV(estimator=model_classification, param_grid=cv_params, scoring='f1_macro', n_jobs=-1, verbose=3)\n",
    "opti.fit(X_train, y_train)\n",
    "res = opti.cv_results_\n",
    "print(f'每轮最佳得分:{res}')\n",
    "print(f'参数的最佳取值：{opti.best_params_}')\n",
    "print(f'最佳模型得分:{opti.best_score_}')\n",
    "other_params.update(opti.best_params_)\n",
    "model_classification = XGBClassifier(**other_params)\n",
    "model_classification.fit(X_train,y_train)\n",
    "y_pred = model_classification.predict(X_test)\n",
    "macro_f1 = f1_score(y_test, y_pred, average='macro')\n",
    "print(\"Macro F1 Score :\", macro_f1)"
   ]
  },
  {
   "cell_type": "code",
   "execution_count": 750,
   "metadata": {},
   "outputs": [
    {
     "name": "stdout",
     "output_type": "stream",
     "text": [
      "Macro f1 score: 0.5434666666666667 n=43\n",
      "final maximum: 0.5434666666666667\n"
     ]
    }
   ],
   "source": [
    "thresholds = sort(model_classification.feature_importances_)\n",
    "thresholds = thresholds[thresholds != 0]\n",
    "max_f1 = macro_f1\n",
    "tmp_x_train = X_train\n",
    "tmp_x_test = X_test\n",
    "output_preds = None\n",
    "for thresh in thresholds:\n",
    "\t# select features using threshold\n",
    "\tselection = SelectFromModel(model_classification, threshold=thresh, prefit=True)\n",
    "\tselect_X_train = selection.transform(X_train)\n",
    "\t# train model\n",
    "\tselection_model = XGBClassifier(**other_params)\n",
    "\tselection_model.fit(select_X_train, y_train)\n",
    "\t# eval model\n",
    "\tselect_X_test = selection.transform(X_test)\n",
    "\tpredictions = selection_model.predict(select_X_test)\n",
    "\tmacro_f1 = f1_score(y_test, predictions, average='macro')\n",
    "\tif macro_f1 > max_f1:\n",
    "\t\tprint(\"Macro f1 score:\", macro_f1, f'n={select_X_train.shape[1]}')\n",
    "\t\tmax_f1 = macro_f1\n",
    "\t\toutput_preds = predictions\n",
    "\t\ttmp_x_train = select_X_train\n",
    "\t\ttmp_x_test = select_X_test\n",
    "print(f'final maximum: {max_f1}')"
   ]
  },
  {
   "cell_type": "code",
   "execution_count": 751,
   "metadata": {},
   "outputs": [
    {
     "name": "stdout",
     "output_type": "stream",
     "text": [
      "[0.00034973 0.00149463 0.00338924 0.00369296 0.00422056 0.00485526\n",
      " 0.00521619 0.00549205 0.00620633 0.00626181 0.00659561 0.00675782\n",
      " 0.00677731 0.0067961  0.0069307  0.00714848 0.00739473 0.00741154\n",
      " 0.00743585 0.00782781 0.00793017 0.00830402 0.00834823 0.00845489\n",
      " 0.00857781 0.00862961 0.00911002 0.00935323 0.00937375 0.00947312\n",
      " 0.00952946 0.00988551 0.00996889 0.01009746 0.01024465 0.01033334\n",
      " 0.01035878 0.01050217 0.01059569 0.0105965  0.01067591 0.01068363\n",
      " 0.01076066 0.01088573 0.01100071 0.01102172 0.01118556 0.01133658\n",
      " 0.01139579 0.01148286 0.01154514 0.01174338 0.01189518 0.01193083\n",
      " 0.01213954 0.01232637 0.01240958 0.01242332 0.0125062  0.01250928\n",
      " 0.01263651 0.01284874 0.01295598 0.01319087 0.01325432 0.01328575\n",
      " 0.01330655 0.0133824  0.01338926 0.01356688 0.01356698 0.0137939\n",
      " 0.01408    0.01428014 0.0143791  0.01462148 0.01561455 0.01574687\n",
      " 0.015922   0.01677261 0.01889106 0.020113   0.02013531 0.02040065\n",
      " 0.02965249 0.03272917 0.04370343]\n"
     ]
    }
   ],
   "source": [
    "print(thresholds)"
   ]
  },
  {
   "cell_type": "code",
   "execution_count": 542,
   "metadata": {},
   "outputs": [
    {
     "data": {
      "text/plain": [
       "array([0, 0, 0, ..., 0, 0, 1])"
      ]
     },
     "execution_count": 542,
     "metadata": {},
     "output_type": "execute_result"
    }
   ],
   "source": [
    "output_preds"
   ]
  },
  {
   "cell_type": "code",
   "execution_count": 543,
   "metadata": {},
   "outputs": [],
   "source": [
    "output_part2 = pd.DataFrame({'policy_id': policy_ids_test, 'age_of_policyholder': output_preds})\n",
    "output_part2.to_csv('z5364634.PART2.output.csv', index=False)"
   ]
  },
  {
   "cell_type": "code",
   "execution_count": 1,
   "metadata": {},
   "outputs": [
    {
     "name": "stdout",
     "output_type": "stream",
     "text": [
      "         Date Product Category  Sales Quantity  Sales Amount\n",
      "0  2024-04-01                A             100          1000\n",
      "1  2024-04-01                B             150          1500\n",
      "2  2024-04-02                A             120          1200\n",
      "3  2024-04-02                B             130          1300\n",
      "4  2024-04-03                A             110          1100\n"
     ]
    },
    {
     "name": "stderr",
     "output_type": "stream",
     "text": [
      "/var/folders/tn/m3w4cr2j7csb0n3r_j673p3w0000gn/T/ipykernel_9240/733549182.py:1: DeprecationWarning: \n",
      "Pyarrow will become a required dependency of pandas in the next major release of pandas (pandas 3.0),\n",
      "(to allow more performant data types, such as the Arrow string type, and better interoperability with other libraries)\n",
      "but was not found to be installed on your system.\n",
      "If this would cause problems for you,\n",
      "please provide us feedback at https://github.com/pandas-dev/pandas/issues/54466\n",
      "        \n",
      "  import pandas as pd\n"
     ]
    }
   ],
   "source": [
    "import pandas as pd\n",
    "\n",
    "# 创建示例DataFrame\n",
    "data = {\n",
    "    'Date': ['2024-04-01', '2024-04-01', '2024-04-02', '2024-04-02', '2024-04-03'],\n",
    "    'Product Category': ['A', 'B', 'A', 'B', 'A'],\n",
    "    'Sales Quantity': [100, 150, 120, 130, 110],\n",
    "    'Sales Amount': [1000, 1500, 1200, 1300, 1100]\n",
    "}\n",
    "\n",
    "df = pd.DataFrame(data)\n",
    "print(df)"
   ]
  },
  {
   "cell_type": "code",
   "execution_count": 4,
   "metadata": {},
   "outputs": [
    {
     "name": "stdout",
     "output_type": "stream",
     "text": [
      "                 Sales Amount         Sales Quantity       \n",
      "Product Category            A       B              A      B\n",
      "Date                                                       \n",
      "2024-04-01             1000.0  1500.0          100.0  150.0\n",
      "2024-04-02             1200.0  1300.0          120.0  130.0\n",
      "2024-04-03             1100.0     NaN          110.0    NaN\n"
     ]
    }
   ],
   "source": [
    "# 创建数据透视表\n",
    "pivot_table = pd.pivot_table(df, index='Date', columns='Product Category', \n",
    "                              values=['Sales Quantity', 'Sales Amount'], \n",
    "                              )\n",
    "\n",
    "print(pivot_table)"
   ]
  },
  {
   "cell_type": "code",
   "execution_count": 4,
   "metadata": {},
   "outputs": [
    {
     "name": "stdout",
     "output_type": "stream",
     "text": [
      "             timestamp\n",
      "0  2019-01-21-11:59:12\n",
      "1  2020-05-12-20:30:45\n"
     ]
    }
   ],
   "source": [
    "import pandas as pd\n",
    "\n",
    "data = {'timestamp': ['2019-21-01:11:59:12 AM', '2020-12-05:08:30:45 PM']}\n",
    "df = pd.DataFrame(data)\n",
    "\n",
    "# 将字符串转换为 datetime 对象\n",
    "df['timestamp'] = pd.to_datetime(df['timestamp'], format='%Y-%d-%m:%I:%M:%S %p')\n",
    "\n",
    "# 重新格式化时间，以年-月-日-24小时制的形式\n",
    "df['timestamp'] = df['timestamp'].dt.strftime('%Y-%m-%d-%H:%M:%S')\n",
    "\n",
    "\n",
    "print(df)"
   ]
  }
 ],
 "metadata": {
  "kernelspec": {
   "display_name": "dataScience",
   "language": "python",
   "name": "python3"
  },
  "language_info": {
   "codemirror_mode": {
    "name": "ipython",
    "version": 3
   },
   "file_extension": ".py",
   "mimetype": "text/x-python",
   "name": "python",
   "nbconvert_exporter": "python",
   "pygments_lexer": "ipython3",
   "version": "3.12.1"
  }
 },
 "nbformat": 4,
 "nbformat_minor": 2
}
